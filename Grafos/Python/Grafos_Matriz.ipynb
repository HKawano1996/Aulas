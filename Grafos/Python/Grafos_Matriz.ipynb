{
  "nbformat": 4,
  "nbformat_minor": 0,
  "metadata": {
    "colab": {
      "name": "Grafos-Matriz.ipynb",
      "provenance": []
    },
    "kernelspec": {
      "name": "python3",
      "display_name": "Python 3"
    }
  },
  "cells": [
    {
      "cell_type": "markdown",
      "metadata": {
        "id": "w6UxuUFHaOWd",
        "colab_type": "text"
      },
      "source": [
        "# Implementando Grafos\n",
        "@Lariza Laura de Oliveira"
      ]
    },
    {
      "cell_type": "code",
      "metadata": {
        "id": "ZA4YYjhKaFg4",
        "colab_type": "code",
        "colab": {
          "base_uri": "https://localhost:8080/",
          "height": 105
        },
        "outputId": "5127fe9e-196f-4dbd-f071-9dc3e64847ad"
      },
      "source": [
        "# Represenção por Matriz de Adjacência em Python\n",
        "\n",
        "\n",
        "class Grafo(object):\n",
        "\n",
        "    # Inicializando uma matriz\n",
        "    def __init__(self, size):\n",
        "        self.adjMatriz = []\n",
        "        for i in range(size):\n",
        "            self.adjMatriz.append([0 for i in range(size)])\n",
        "        self.size = size\n",
        "\n",
        "    # Adicionando uma aresta\n",
        "    def add_edge(self, v1, v2):\n",
        "        if v1 == v2:\n",
        "            print(\"Mesmos Vértices %d and %d\" % (v1, v2))\n",
        "        self.adjMatriz[v1][v2] = 1\n",
        "        self.adjMatriz[v2][v1] = 1\n",
        "\n",
        "    # Removendo arestas\n",
        "    def remove_edge(self, v1, v2):\n",
        "        if self.adjMatriz[v1][v2] == 0:\n",
        "            print(\"Sem arestas entre %d and %d\" % (v1, v2))\n",
        "            return\n",
        "        self.adjMatriz[v1][v2] = 0\n",
        "        self.adjMatriz[v2][v1] = 0\n",
        "\n",
        "    def __len__(self):\n",
        "        return self.size\n",
        "\n",
        "    # Printando a Matriz\n",
        "    def print_matriz(self):\n",
        "        for row in self.adjMatriz:\n",
        "            for val in row:\n",
        "                print(val, end=' ')\n",
        "            print()\n",
        "\n",
        "\n",
        "\n",
        "def main():\n",
        "    g = Grafo(5)\n",
        "    g.add_edge(0, 1)\n",
        "    g.add_edge(0, 2)\n",
        "    g.add_edge(1, 2)\n",
        "    g.add_edge(2, 0)\n",
        "    g.add_edge(2, 3)\n",
        "\n",
        "    g.print_matriz()\n",
        "\n",
        "\n",
        "if __name__ == '__main__':\n",
        "    main()"
      ],
      "execution_count": 6,
      "outputs": [
        {
          "output_type": "stream",
          "text": [
            "0 1 1 0 0 \n",
            "1 0 1 0 0 \n",
            "1 1 0 1 0 \n",
            "0 0 1 0 0 \n",
            "0 0 0 0 0 \n"
          ],
          "name": "stdout"
        }
      ]
    }
  ]
}