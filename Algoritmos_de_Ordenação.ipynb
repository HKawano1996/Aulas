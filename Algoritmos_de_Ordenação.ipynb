{
  "nbformat": 4,
  "nbformat_minor": 0,
  "metadata": {
    "colab": {
      "name": "Algoritmos de Ordenação.ipynb",
      "provenance": []
    },
    "kernelspec": {
      "name": "python3",
      "display_name": "Python 3"
    }
  },
  "cells": [
    {
      "cell_type": "markdown",
      "metadata": {
        "id": "L44C4S-ZmCg-",
        "colab_type": "text"
      },
      "source": [
        "# **Algoritmos Elementares**\n",
        "@author: Lariza Laura de Oliveira\n"
      ]
    },
    {
      "cell_type": "code",
      "metadata": {
        "id": "7KovmE7yl-4J",
        "colab_type": "code",
        "colab": {
          "base_uri": "https://localhost:8080/",
          "height": 194
        },
        "outputId": "5433999e-8931-4cb4-96e2-6f549a152c55"
      },
      "source": [
        "############################### Ordenação por Inserção ############################################\n",
        "\n",
        "\n",
        "# Declarando a Função no Python\n",
        "def insertionSort(vetor): \n",
        "  \n",
        " \n",
        "    for i in range(1, len(vetor)): \n",
        "  \n",
        "        chave = vetor[i] \n",
        "  \n",
        "        # Move os elementos do vetor[0..i-1], que são maiores que a chave\n",
        "        j = i-1\n",
        "        while j >=0 and chave < vetor[j] : \n",
        "                vetor[j+1] = vetor[j] \n",
        "                j -= 1\n",
        "        vetor[j+1] = chave \n",
        "  \n",
        "  \n",
        "# Vamos testar\n",
        "vetor = [20, 11, 15, 5, 6, 2, 1, 4, 7] \n",
        "insertionSort(vetor) \n",
        "print (\"Sorted array is:\") \n",
        "for i in range(len(vetor)): \n",
        "    print (\"%d\" %vetor[i]) \n",
        "  \n"
      ],
      "execution_count": 3,
      "outputs": [
        {
          "output_type": "stream",
          "text": [
            "Sorted array is:\n",
            "1\n",
            "2\n",
            "4\n",
            "5\n",
            "6\n",
            "7\n",
            "11\n",
            "15\n",
            "20\n"
          ],
          "name": "stdout"
        }
      ]
    },
    {
      "cell_type": "code",
      "metadata": {
        "id": "9kCb2W96oS_x",
        "colab_type": "code",
        "colab": {
          "base_uri": "https://localhost:8080/",
          "height": 194
        },
        "outputId": "e725a6f6-b56a-4c6d-d579-dfc343271b2e"
      },
      "source": [
        "############################### Ordenação por Seleção ############################################\n",
        "\n",
        " # Declarando a Função no Python\n",
        "def selectionSort(vetor): \n",
        " \n",
        "  for i in range(len(vetor)): \n",
        "        \n",
        "      # Encontre o menor elemento na porção ainda não ordenada do vetor \n",
        "      indice_menor = i \n",
        "      for j in range(i+1, len(vetor)): \n",
        "          if vetor[j] < vetor[indice_menor]: \n",
        "              indice_menor = j \n",
        "                \n",
        "      # Troque o menor elemento encontrado com o primeiro elemento     \n",
        "      vetor[i], vetor[indice_menor] = vetor[indice_menor], vetor[i] \n",
        "\n",
        "  \n",
        "# Vamos testar\n",
        "vetor = [20, 11, 15, 5, 6, 2, 1, 4, 7]\n",
        "selectionSort(vetor)\n",
        "print (\"Vetor ordenado\") \n",
        "for i in range(len(vetor)): \n",
        "    print(\"%d\" %vetor[i]), \n",
        "  \n"
      ],
      "execution_count": 10,
      "outputs": [
        {
          "output_type": "stream",
          "text": [
            "Vetor ordenado\n",
            "1\n",
            "2\n",
            "4\n",
            "5\n",
            "6\n",
            "7\n",
            "11\n",
            "15\n",
            "20\n"
          ],
          "name": "stdout"
        }
      ]
    }
  ]
}